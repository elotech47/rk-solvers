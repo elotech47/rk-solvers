{
 "cells": [
  {
   "cell_type": "code",
   "execution_count": 9,
   "metadata": {},
   "outputs": [],
   "source": [
    "import numpy as np\n",
    "import matplotlib.pyplot as plt\n",
    "import cantera as ct\n",
    "import time\n",
    "import rk_solver_cpp\n",
    "from scipy.integrate import solve_ivp\n",
    "from tqdm import tqdm\n"
   ]
  },
  {
   "cell_type": "code",
   "execution_count": 10,
   "metadata": {},
   "outputs": [],
   "source": [
    "def setup_gas(T, pp, ratio):\n",
    "    gas = ct.Solution('mechanism_files/ch4_53species.yaml')\n",
    "    gas.TP = T, ct.one_atm*pp\n",
    "    gas.set_equivalence_ratio(ratio, 'CH4', 'O2:1.0, N2:3.76')\n",
    "    return gas, pp \n",
    "\n",
    "def combustion_ode(gas, pp):\n",
    "    def f(t, Y):\n",
    "        T = Y[0]\n",
    "        YY = Y[1:]\n",
    "        gas.TPY = T, ct.one_atm*pp, YY\n",
    "        species_rates = gas.net_production_rates*gas.molecular_weights/gas.density\n",
    "        species_h = gas.partial_molar_enthalpies/gas.molecular_weights\n",
    "        temp_rate = -np.sum(species_rates*species_h/gas.cp_mass)\n",
    "        return np.concatenate((np.array([temp_rate]), species_rates), axis=0)\n",
    "    return f"
   ]
  },
  {
   "cell_type": "code",
   "execution_count": 14,
   "metadata": {},
   "outputs": [],
   "source": [
    "def solve_ivp_cpp(f, t_span, y0, ts, rtol, atol):\n",
    "    rk23 = rk_solver_cpp.RK23(f, t_span[0], y0, t_span[1], rtol, atol)\n",
    "    ys_cpp = []\n",
    "    start_time = time.time()\n",
    "    time_cpp = 0\n",
    "    for t in tqdm(ts, desc=\"C++ RK23\"):\n",
    "        rk23.integrate(t)\n",
    "        time_cpp += time.time() - start_time\n",
    "        ys_cpp.append(np.array(rk23.get_y()))\n",
    "    return ys_cpp, time_cpp\n"
   ]
  },
  {
   "cell_type": "code",
   "execution_count": 16,
   "metadata": {},
   "outputs": [
    {
     "name": "stderr",
     "output_type": "stream",
     "text": [
      "C++ RK23: 100%|██████████| 101/101 [01:06<00:00,  1.53it/s]\n"
     ]
    }
   ],
   "source": [
    "T = 1400\n",
    "pp = 40\n",
    "ratio = 1.0\n",
    "\n",
    "rtol = 1e-6\n",
    "atol = 1e-8\n",
    "\n",
    "gas, pp = setup_gas(T, pp, ratio)\n",
    "\n",
    "f = combustion_ode(gas, pp)\n",
    "y0 = np.hstack([[gas.T], gas.Y])\n",
    "t_span = (0.0, 2e-4)\n",
    "npoints = 100\n",
    "ts = np.linspace(t_span[0], t_span[1], npoints + 1)\n",
    "\n",
    "ys_cpp, time_cpp = solve_ivp_cpp(f, t_span, y0, ts, rtol, atol)\n",
    "\n"
   ]
  },
  {
   "cell_type": "code",
   "execution_count": 17,
   "metadata": {},
   "outputs": [
    {
     "data": {
      "text/plain": [
       "[<matplotlib.lines.Line2D at 0x15ed9c090>]"
      ]
     },
     "execution_count": 17,
     "metadata": {},
     "output_type": "execute_result"
    },
    {
     "data": {
      "image/png": "[encoded data removed]",
      "text/plain": [
       "<Figure size 640x480 with 1 Axes>"
      ]
     },
     "metadata": {},
     "output_type": "display_data"
    }
   ],
   "source": []
  },
  {
   "cell_type": "code",
   "execution_count": 1,
   "metadata": {},
   "outputs": [],
   "source": [
    "def benchmark_combustion(gas, pp, t_span, npoints):\n",
    "    f = combustion_ode(gas, pp)\n",
    "    y0 = np.hstack([[gas.T], gas.Y])\n",
    "    ts = np.linspace(t_span[0], t_span[1], npoints + 1)\n",
    "\n",
    "    # C++ RK23\n",
    "    rk23 = rk_solver_cpp.RK23(f, t_span[0], y0, t_span[1], rtol=1e-6, atol=1e-8)\n",
    "    start_time = time.time()\n",
    "    ys_cpp = []\n",
    "    try:\n",
    "        for t in tqdm(ts, desc=\"C++ RK23\"):\n",
    "            rk23.integrate(t)\n",
    "            ys_cpp.append(np.array(rk23.get_y()))\n",
    "        time_cpp = time.time() - start_time\n",
    "        cpp_success = True\n",
    "    except Exception as e:\n",
    "        print(f\"C++ RK23 failed: {str(e)}\")\n",
    "        time_cpp = None\n",
    "        cpp_success = False\n",
    "\n",
    "    # SciPy RK45\n",
    "    start_time = time.time()\n",
    "    sol_scipy = solve_ivp(f, t_span, y0, method='RK23', t_eval=ts, rtol=1e-6, atol=1e-8)\n",
    "    time_scipy = time.time() - start_time\n",
    "\n",
    "    # Print results\n",
    "    print(f\"\\nResults for Combustion Integration:\")\n",
    "    if cpp_success:\n",
    "        print(f\"C++ RK23 time: {time_cpp:.6f} s\")\n",
    "    print(f\"SciPy RK23 time: {time_scipy:.6f} s\")\n",
    "\n",
    "    # Plotting\n",
    "    plt.figure(figsize=(12, 6))\n",
    "    if cpp_success:\n",
    "        plt.plot(ts, [y[0] for y in ys_cpp], label='C++ RK23', linestyle='--')\n",
    "    plt.plot(sol_scipy.t, sol_scipy.y[0], label='SciPy RK23', linestyle='-')\n",
    "    plt.xlabel('Time (s)')\n",
    "    plt.ylabel('Temperature (K)')\n",
    "    plt.title('Combustion Integration - Temperature vs Time')\n",
    "    plt.legend()\n",
    "    plt.savefig('combustion_integration_comparison.png')\n",
    "    plt.close()\n",
    "\n",
    "    # Plot species mass fractions\n",
    "    species_to_plot = ['CH4', 'O2', 'CO2', 'H2O']\n",
    "    species_indices = [gas.species_index(s) for s in species_to_plot]\n",
    "    \n",
    "    plt.figure(figsize=(12, 8))\n",
    "    for i, species in enumerate(species_to_plot):\n",
    "        if cpp_success:\n",
    "            plt.plot(ts, [y[species_indices[i]+1] for y in ys_cpp], label=f'{species} (C++ RK23)', linestyle='--')\n",
    "        plt.plot(sol_scipy.t, sol_scipy.y[species_indices[i]+1], label=f'{species} (SciPy RK23)', linestyle='-')\n",
    "    plt.xlabel('Time (s)')\n",
    "    plt.ylabel('Mass Fraction')\n",
    "    plt.title('Combustion Integration - Species Mass Fractions')\n",
    "    plt.legend()\n",
    "    plt.yscale('log')\n",
    "    plt.savefig('combustion_integration_species_comparison.png')\n",
    "    plt.close()\n",
    "\n"
   ]
  },
  {
   "cell_type": "code",
   "execution_count": null,
   "metadata": {},
   "outputs": [],
   "source": [
    "if __name__ == \"__main__\":\n",
    "    gas, pp = setup_gas()\n",
    "    t_span = (0.0, 8.0)\n",
    "    npoints = 100\n",
    "    benchmark_combustion(gas, pp, t_span, npoints)"
   ]
  }
 ],
 "metadata": {
  "kernelspec": {
   "display_name": "mlEnv",
   "language": "python",
   "name": "python3"
  },
  "language_info": {
   "codemirror_mode": {
    "name": "ipython",
    "version": 3
   },
   "file_extension": ".py",
   "mimetype": "text/x-python",
   "name": "python",
   "nbconvert_exporter": "python",
   "pygments_lexer": "ipython3",
   "version": "3.11.9"
  }
 },
 "nbformat": 4,
 "nbformat_minor": 2
}
