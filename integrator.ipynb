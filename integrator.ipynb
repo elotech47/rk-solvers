{
 "cells": [
  {
   "cell_type": "code",
   "execution_count": 1,
   "metadata": {},
   "outputs": [],
   "source": [
    "import numpy as np\n",
    "import matplotlib.pyplot as plt\n",
    "import cantera as ct\n",
    "import time\n",
    "import rk_solver_cpp\n",
    "from scipy.integrate import solve_ivp\n",
    "from tqdm import tqdm"
   ]
  },
  {
   "cell_type": "code",
   "execution_count": 2,
   "metadata": {},
   "outputs": [],
   "source": [
    "def setup_gas(T, pp):\n",
    "    gas = ct.Solution('mechanism_files/ch4_53species.yaml')\n",
    "    gas.TP = T, ct.one_atm*pp\n",
    "    gas.set_equivalence_ratio(1.0, 'CH4', 'O2:1.0, N2:3.76')\n",
    "    return gas, pp \n",
    "\n",
    "def combustion_ode(gas, pp):\n",
    "    def f(t, Y):\n",
    "        T = Y[0]\n",
    "        YY = Y[1:]\n",
    "        gas.TPY = T, ct.one_atm*pp, YY\n",
    "        species_rates = gas.net_production_rates*gas.molecular_weights/gas.density\n",
    "        species_h = gas.partial_molar_enthalpies/gas.molecular_weights\n",
    "        temp_rate = -np.sum(species_rates*species_h/gas.cp_mass)\n",
    "        return np.concatenate((np.array([temp_rate]), species_rates), axis=0)\n",
    "    return f\n",
    "\n",
    "def detect_ignition(Temperatures, tolerance=1e-3):\n",
    "    return np.any(np.diff(Temperatures) > tolerance)\n",
    "\n",
    "\n"
   ]
  },
  {
   "cell_type": "code",
   "execution_count": 3,
   "metadata": {},
   "outputs": [],
   "source": [
    "T_initial = 1400\n",
    "pp_initial = 40\n",
    "gas, pp = setup_gas(T_initial, pp_initial)\n",
    "t_end = 2e-4\n",
    "dt = 1e-6\n",
    "\n",
    "npoints = int(t_end/dt)\n",
    "\n",
    "t_span = np.linspace(0, t_end, npoints + 1)\n",
    "\n",
    "f = combustion_ode(gas, pp)∫∫∫\n",
    "y0 = np.hstack([[gas.T], gas.Y])\n"
   ]
  },
  {
   "cell_type": "code",
   "execution_count": 4,
   "metadata": {},
   "outputs": [],
   "source": [
    "def solve_with_cpp(f, t_span, y0, rtol=1e-6, atol=1e-8):\n",
    "    rk23 = rk_solver_cpp.RK23(f, t_span[0], y0, t_span[-1], rtol=rtol, atol=atol)\n",
    "    print(f\"Solving with C++ RK23\")\n",
    "    start_time = time.time()\n",
    "    try:\n",
    "        \n",
    "        result_cpp = rk_solver_cpp.solve_ivp(rk23, t_span)\n",
    "        time_cpp = time.time() - start_time\n",
    "        cpp_success = result_cpp['success']\n",
    "        if cpp_success:\n",
    "            ys_cpp = result_cpp['y']\n",
    "        else:\n",
    "            print(f\"C++ RK23 failed: {result_cpp['message']}\")\n",
    "        return ys_cpp, time_cpp, cpp_success\n",
    "    except Exception as e:\n",
    "        print(f\"C++ RK23 failed: {str(e)}\")\n",
    "        time_cpp = None\n",
    "        cpp_success = False\n",
    "        return None, None, cpp_success"
   ]
  },
  {
   "cell_type": "code",
   "execution_count": 10,
   "metadata": {},
   "outputs": [
    {
     "data": {
      "text/plain": [
       "200"
      ]
     },
     "execution_count": 10,
     "metadata": {},
     "output_type": "execute_result"
    }
   ],
   "source": [
    "for t in t_span:\n",
    "    tt = "
   ]
  },
  {
   "cell_type": "code",
   "execution_count": 5,
   "metadata": {},
   "outputs": [
    {
     "name": "stdout",
     "output_type": "stream",
     "text": [
      "Solving with C++ RK23\n"
     ]
    }
   ],
   "source": [
    "\n",
    "ys_cpp, time_cpp, cpp_success = solve_with_cpp(f, t_span, y0)\n",
    "\n"
   ]
  }
 ],
 "metadata": {
  "kernelspec": {
   "display_name": "mlEnv",
   "language": "python",
   "name": "python3"
  },
  "language_info": {
   "codemirror_mode": {
    "name": "ipython",
    "version": 3
   },
   "file_extension": ".py",
   "mimetype": "text/x-python",
   "name": "python",
   "nbconvert_exporter": "python",
   "pygments_lexer": "ipython3",
   "version": "3.11.9"
  }
 },
 "nbformat": 4,
 "nbformat_minor": 2
}
